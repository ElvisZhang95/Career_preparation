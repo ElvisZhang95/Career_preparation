{
 "cells": [
  {
   "cell_type": "markdown",
   "metadata": {},
   "source": [
    "## Basic data analysis "
   ]
  },
  {
   "cell_type": "markdown",
   "metadata": {},
   "source": [
    "##### About load file"
   ]
  },
  {
   "cell_type": "code",
   "execution_count": null,
   "metadata": {},
   "outputs": [],
   "source": [
    "import os\n",
    "import numpy as np\n",
    "import pandas as pd\n",
    "\n",
    "INPUT_DIR = os.getcwd()\n",
    "file_name = \"data.csv\"\n",
    "\n",
    "load_csv = INPUT_DIR + file_name\n",
    "df = pd.read_csv(load_csv, index_col=0, parse_dates=True, dayfirst=True).sort_index(ascending=True)"
   ]
  },
  {
   "cell_type": "markdown",
   "metadata": {},
   "source": [
    "##### General analysis"
   ]
  },
  {
   "cell_type": "code",
   "execution_count": null,
   "metadata": {},
   "outputs": [],
   "source": [
    "#print head of data, so show example\n",
    "df.head()\n",
    "#print feature data type\n",
    "df.dtypes\n",
    "#print data sample number\n",
    "print(\"We have {:,} market samples in the training dataset.\".format(df.shape[0]))\n",
    "#print price value\n",
    "print(\"Average Standard deviation of price change within a day in {df['price'].mean():.4f}.\")\n",
    "#check nan value \n",
    "df.isna().sum()\n",
    "#check unique number, e.g. 'time' is one of feature\n",
    "df['time'].nunique()\n",
    "#check feature name equal to unknown\n",
    "df[df['time'] == 'unknown'].size\n",
    "#get detail information about feature\n",
    "df['time'].describe()\n",
    "#filter data through specific value condition\n",
    "outliers = df[(df['time']>1)|(df['time']<-1)]\n",
    "#groupby. Let 'time' feature be the key, other feature in the table become value\n",
    "df.groupby('time') \n",
    "#limit time period\n",
    "new_df = df.loc[df['time']>='2010-01-01 22:00:00+0000']\n",
    "#value_counts, pick top 10.\n",
    "df['feature'].value_counts().head(10)\n",
    "#plot a horizontal bar plot 水平柱状图\n",
    "ax = df.plot.barh(x='lab', y='val')\n",
    "df['time'].plot('barh')\n",
    "#plot bar 柱状图\n",
    "df['time'].plot('bar')"
   ]
  },
  {
   "cell_type": "markdown",
   "metadata": {},
   "source": [
    "##### Feature analysis (category part)"
   ]
  },
  {
   "cell_type": "code",
   "execution_count": null,
   "metadata": {},
   "outputs": [],
   "source": []
  },
  {
   "cell_type": "markdown",
   "metadata": {},
   "source": [
    "##### Feature analysis (text part)"
   ]
  },
  {
   "cell_type": "code",
   "execution_count": null,
   "metadata": {},
   "outputs": [],
   "source": []
  },
  {
   "cell_type": "markdown",
   "metadata": {},
   "source": [
    "##### Feature analysis (Time series part)"
   ]
  },
  {
   "cell_type": "code",
   "execution_count": null,
   "metadata": {},
   "outputs": [],
   "source": [
    "#log return\n",
    "def log_returns(x, lag=1):\n",
    "    \"\"\"Calculate log returns between adjacent close prices\"\"\"\n",
    "    return np.log(x) - np.log(x.shift(lag))"
   ]
  },
  {
   "cell_type": "code",
   "execution_count": null,
   "metadata": {},
   "outputs": [],
   "source": [
    "#time frequency\n"
   ]
  },
  {
   "cell_type": "markdown",
   "metadata": {},
   "source": [
    "##### Feature selection "
   ]
  },
  {
   "cell_type": "markdown",
   "metadata": {},
   "source": [
    "## Modeling "
   ]
  },
  {
   "cell_type": "markdown",
   "metadata": {},
   "source": [
    "##### XGBoost"
   ]
  },
  {
   "cell_type": "code",
   "execution_count": 3,
   "metadata": {},
   "outputs": [],
   "source": [
    "from xgboost import XGBClassifier\n",
    "from sklearn import model_selection\n",
    "from sklearn.metrics import accuracy_score\n",
    "\n",
    "X_train, X_test, Y_train, Y_test = model_selection.train_test_split(X, Y, test_size=0.1, random_state=99)\n",
    "\n",
    "xgb = XGBClassifier(n_jobs=4, n_estimators=300, max_depth=6, eta=0.15)\n",
    "xgb.fit(X_train, Y_train)\n",
    "print(\"Accuracy Score: \", accuracy_score(xgb.predict(X_test), Y_test)"
   ]
  }
 ],
 "metadata": {
  "kernelspec": {
   "display_name": "Python 3",
   "language": "python",
   "name": "python3"
  },
  "language_info": {
   "codemirror_mode": {
    "name": "ipython",
    "version": 3
   },
   "file_extension": ".py",
   "mimetype": "text/x-python",
   "name": "python",
   "nbconvert_exporter": "python",
   "pygments_lexer": "ipython3",
   "version": "3.6.5"
  }
 },
 "nbformat": 4,
 "nbformat_minor": 2
}
